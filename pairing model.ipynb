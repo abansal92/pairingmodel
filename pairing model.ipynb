{
 "cells": [
  {
   "cell_type": "code",
   "execution_count": 1,
   "metadata": {
    "collapsed": true
   },
   "outputs": [],
   "source": [
    "# 4 states with double degenercy - 8 single particle states. \n",
    "# System is defined to have four particles without breaking pairs. \n",
    "# The aim is to find eigenstates and eigenvalues of H as a linear combination of single particle states.\n",
    "%matplotlib inline\n",
    "import matplotlib.pyplot as plt\n",
    "import numpy as np\n",
    "import scipy as sp\n",
    "import math\n",
    "\n",
    "#H_hat = H_0 + H_I (In out case H_I is limited to two body interactions. H_0 is the underlying one-body hamiltionian.)\n",
    "\n",
    "spacing = 2.0 #in MeV --> it is the spacing between energy levels of single particle basis.\n",
    "strength = -2.0 #units? --> it is the strength of coupling constant for two body interactions.\n",
    "\n",
    "\n"
   ]
  },
  {
   "cell_type": "code",
   "execution_count": 4,
   "metadata": {},
   "outputs": [
    {
     "data": {
      "image/png": "[encoded data removed]",
      "text/plain": [
       "<matplotlib.figure.Figure at 0x10cafa5c0>"
      ]
     },
     "metadata": {},
     "output_type": "display_data"
    }
   ],
   "source": [
    "%matplotlib inline\n",
    "import matplotlib.pyplot as plt\n",
    "import numpy as np\n",
    "import scipy as sp\n",
    "import math\n",
    "\n",
    "def eigenvals(g1,eps):\n",
    "    e1 = eps-g1 - np.sqrt(g1**2 + eps**2)\n",
    "    e2 = eps-g1 + np.sqrt(g1**2 + eps**2)\n",
    "    return e1,e2\n",
    "    \n",
    "\n",
    "g= np.linspace(-1.0,1.0) #in MeV\n",
    "eps = 2.0 #in MeV\n",
    "E1 = []\n",
    "E2 = []\n",
    "for i in range(len(g)):\n",
    "    e1,e2 = eigenvals(g[i],eps)\n",
    "    E1.append(e1)\n",
    "    E2.append(e2)\n",
    "    \n",
    "plt.plot(g,E1,'r',g,E2,'b')\n",
    "plt.xlabel('g')\n",
    "plt.ylabel('energy eigenvalues')\n",
    "plt.legend()"
   ]
  },
  {
   "cell_type": "code",
   "execution_count": null,
   "metadata": {
    "collapsed": true
   },
   "outputs": [],
   "source": []
  }
 ],
 "metadata": {
  "kernelspec": {
   "display_name": "Python 3",
   "language": "python",
   "name": "python3"
  },
  "language_info": {
   "codemirror_mode": {
    "name": "ipython",
    "version": 3
   },
   "file_extension": ".py",
   "mimetype": "text/x-python",
   "name": "python",
   "nbconvert_exporter": "python",
   "pygments_lexer": "ipython3",
   "version": "3.6.3"
  }
 },
 "nbformat": 4,
 "nbformat_minor": 2
}
